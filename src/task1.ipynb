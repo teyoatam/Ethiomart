{
 "cells": [
  {
   "cell_type": "code",
   "execution_count": 8,
   "metadata": {},
   "outputs": [],
   "source": [
    "from telethon import TelegramClient,events\n",
    "import pandas as pd\n",
    "import os\n",
    "import re\n",
    "import nltk\n",
    "from nltk.tokenize import word_tokenize\n",
    "from nltk.corpus import stopwords\n",
    " \n",
    "\n"
   ]
  },
  {
   "cell_type": "code",
   "execution_count": 2,
   "metadata": {},
   "outputs": [
    {
     "data": {
      "text/plain": [
       "<telethon.client.telegramclient.TelegramClient at 0x2d655a46480>"
      ]
     },
     "execution_count": 2,
     "metadata": {},
     "output_type": "execute_result"
    }
   ],
   "source": [
    "# Replace with your own values\n",
    "api_id = '26559639'\n",
    "api_hash = '3299ed6b2b0cbd2243470f18e1a77272'\n",
    "phone = '+251984956023'\n",
    "\n",
    "client = TelegramClient(phone, api_id, api_hash)\n",
    "\n",
    "await client.start()"
   ]
  },
  {
   "cell_type": "code",
   "execution_count": 3,
   "metadata": {},
   "outputs": [
    {
     "data": {
      "text/html": [
       "<div>\n",
       "<style scoped>\n",
       "    .dataframe tbody tr th:only-of-type {\n",
       "        vertical-align: middle;\n",
       "    }\n",
       "\n",
       "    .dataframe tbody tr th {\n",
       "        vertical-align: top;\n",
       "    }\n",
       "\n",
       "    .dataframe thead th {\n",
       "        text-align: right;\n",
       "    }\n",
       "</style>\n",
       "<table border=\"1\" class=\"dataframe\">\n",
       "  <thead>\n",
       "    <tr style=\"text-align: right;\">\n",
       "      <th></th>\n",
       "      <th>date</th>\n",
       "      <th>text</th>\n",
       "      <th>media</th>\n",
       "    </tr>\n",
       "  </thead>\n",
       "  <tbody>\n",
       "    <tr>\n",
       "      <th>0</th>\n",
       "      <td>2024-09-24 14:34:31+00:00</td>\n",
       "      <td></td>\n",
       "      <td>MessageMediaPhoto(spoiler=False, photo=Photo(i...</td>\n",
       "    </tr>\n",
       "    <tr>\n",
       "      <th>1</th>\n",
       "      <td>2024-09-24 14:34:31+00:00</td>\n",
       "      <td></td>\n",
       "      <td>MessageMediaPhoto(spoiler=False, photo=Photo(i...</td>\n",
       "    </tr>\n",
       "    <tr>\n",
       "      <th>2</th>\n",
       "      <td>2024-09-24 14:34:31+00:00</td>\n",
       "      <td>〰️〰️〰️〰️〰️ \\nCLASICO\\n🔸🔸🔸🔸🔸🔸\\nPrice  2200( No ...</td>\n",
       "      <td>MessageMediaPhoto(spoiler=False, photo=Photo(i...</td>\n",
       "    </tr>\n",
       "    <tr>\n",
       "      <th>3</th>\n",
       "      <td>2024-09-21 18:56:46+00:00</td>\n",
       "      <td></td>\n",
       "      <td>MessageMediaPhoto(spoiler=False, photo=Photo(i...</td>\n",
       "    </tr>\n",
       "    <tr>\n",
       "      <th>4</th>\n",
       "      <td>2024-09-18 15:26:06+00:00</td>\n",
       "      <td>〰️〰️〰️〰️〰️〰️〰️\\nPuma \\nMade in Vietnam \\n🔸🔸🔸🔸🔸...</td>\n",
       "      <td>MessageMediaPhoto(spoiler=False, photo=Photo(i...</td>\n",
       "    </tr>\n",
       "  </tbody>\n",
       "</table>\n",
       "</div>"
      ],
      "text/plain": [
       "                       date  \\\n",
       "0 2024-09-24 14:34:31+00:00   \n",
       "1 2024-09-24 14:34:31+00:00   \n",
       "2 2024-09-24 14:34:31+00:00   \n",
       "3 2024-09-21 18:56:46+00:00   \n",
       "4 2024-09-18 15:26:06+00:00   \n",
       "\n",
       "                                                text  \\\n",
       "0                                                      \n",
       "1                                                      \n",
       "2  〰️〰️〰️〰️〰️ \\nCLASICO\\n🔸🔸🔸🔸🔸🔸\\nPrice  2200( No ...   \n",
       "3                                                      \n",
       "4  〰️〰️〰️〰️〰️〰️〰️\\nPuma \\nMade in Vietnam \\n🔸🔸🔸🔸🔸...   \n",
       "\n",
       "                                               media  \n",
       "0  MessageMediaPhoto(spoiler=False, photo=Photo(i...  \n",
       "1  MessageMediaPhoto(spoiler=False, photo=Photo(i...  \n",
       "2  MessageMediaPhoto(spoiler=False, photo=Photo(i...  \n",
       "3  MessageMediaPhoto(spoiler=False, photo=Photo(i...  \n",
       "4  MessageMediaPhoto(spoiler=False, photo=Photo(i...  "
      ]
     },
     "execution_count": 3,
     "metadata": {},
     "output_type": "execute_result"
    }
   ],
   "source": [
    "async def fetch_channel_messages(channel_username):\n",
    "    messages = []\n",
    "    async for message in client.iter_messages(channel_username, limit=100):  # Change limit as needed\n",
    "        messages.append({\n",
    "            'date': message.date,\n",
    "            'text': message.message,\n",
    "            'media': message.media\n",
    "        })\n",
    "    return messages\n",
    "\n",
    "# Specify the channel username\n",
    "channel_username = 'Fashiontera'  # Use the actual username or link if it's different\n",
    "\n",
    "# Fetch messages\n",
    "messages = await fetch_channel_messages(channel_username)\n",
    "\n",
    "# Convert to DataFrame for analysis\n",
    "\n",
    "df_messages = pd.DataFrame(messages)\n",
    "df_messages.head()  # Display first few rows"
   ]
  },
  {
   "cell_type": "code",
   "execution_count": 5,
   "metadata": {},
   "outputs": [],
   "source": [
    "df_messages.to_csv('fashionteraa_messages.csv', index=False)"
   ]
  },
  {
   "cell_type": "code",
   "execution_count": 6,
   "metadata": {},
   "outputs": [
    {
     "name": "stderr",
     "output_type": "stream",
     "text": [
      "Server closed the connection: [WinError 10054] An existing connection was forcibly closed by the remote host\n",
      "Server closed the connection: [WinError 10054] An existing connection was forcibly closed by the remote host\n",
      "Attempt 1 at connecting failed: TimeoutError: \n",
      "Attempt 2 at connecting failed: OSError: [Errno 10051] Connect call failed ('149.154.167.91', 443)\n",
      "Attempt 3 at connecting failed: OSError: [Errno 10051] Connect call failed ('149.154.167.91', 443)\n",
      "Attempt 4 at connecting failed: OSError: [Errno 10051] Connect call failed ('149.154.167.91', 443)\n",
      "Attempt 5 at connecting failed: OSError: [Errno 10051] Connect call failed ('149.154.167.91', 443)\n",
      "Attempt 6 at connecting failed: OSError: [Errno 10051] Connect call failed ('149.154.167.91', 443)\n",
      "Attempt 1 at connecting failed: OSError: [Errno 10051] Connect call failed ('149.154.167.91', 443)\n",
      "Attempt 2 at connecting failed: OSError: [Errno 10051] Connect call failed ('149.154.167.91', 443)\n",
      "Attempt 3 at connecting failed: OSError: [Errno 10051] Connect call failed ('149.154.167.91', 443)\n",
      "Attempt 4 at connecting failed: TimeoutError: \n",
      "Attempt 5 at connecting failed: TimeoutError: \n",
      "Attempt 6 at connecting failed: TimeoutError: \n",
      "Attempt 1 at connecting failed: TimeoutError: \n",
      "Attempt 2 at connecting failed: TimeoutError: \n",
      "Attempt 3 at connecting failed: TimeoutError: \n",
      "Attempt 4 at connecting failed: OSError: [Errno 10065] Connect call failed ('149.154.167.91', 443)\n",
      "Attempt 5 at connecting failed: OSError: [Errno 10065] Connect call failed ('149.154.167.91', 443)\n",
      "Attempt 6 at connecting failed: OSError: [Errno 10065] Connect call failed ('149.154.167.91', 443)\n",
      "Attempt 1 at connecting failed: OSError: [Errno 10065] Connect call failed ('149.154.167.91', 443)\n",
      "Attempt 2 at connecting failed: OSError: [Errno 10065] Connect call failed ('149.154.167.91', 443)\n",
      "Attempt 3 at connecting failed: OSError: [Errno 10065] Connect call failed ('149.154.167.91', 443)\n",
      "Attempt 4 at connecting failed: OSError: [Errno 10065] Connect call failed ('149.154.167.91', 443)\n",
      "Attempt 5 at connecting failed: OSError: [Errno 10065] Connect call failed ('149.154.167.91', 443)\n",
      "Attempt 6 at connecting failed: OSError: [Errno 10065] Connect call failed ('149.154.167.91', 443)\n",
      "Attempt 1 at connecting failed: OSError: [Errno 10065] Connect call failed ('149.154.167.91', 443)\n",
      "Attempt 2 at connecting failed: OSError: [Errno 10065] Connect call failed ('149.154.167.91', 443)\n",
      "Attempt 3 at connecting failed: OSError: [Errno 10065] Connect call failed ('149.154.167.91', 443)\n",
      "Attempt 4 at connecting failed: OSError: [Errno 10065] Connect call failed ('149.154.167.91', 443)\n",
      "Attempt 5 at connecting failed: OSError: [Errno 10065] Connect call failed ('149.154.167.91', 443)\n",
      "Attempt 6 at connecting failed: OSError: [Errno 10065] Connect call failed ('149.154.167.91', 443)\n",
      "Automatic reconnection failed 5 time(s)\n",
      "Future exception was never retrieved\n",
      "future: <Future finished exception=ConnectionError('Connection to Telegram failed 5 time(s)')>\n",
      "ConnectionError: Connection to Telegram failed 5 time(s)\n"
     ]
    },
    {
     "ename": "ConnectionError",
     "evalue": "Connection to Telegram failed 5 time(s)",
     "output_type": "error",
     "traceback": [
      "\u001b[1;31m---------------------------------------------------------------------------\u001b[0m",
      "\u001b[1;31mConnectionError\u001b[0m                           Traceback (most recent call last)",
      "Cell \u001b[1;32mIn[6], line 26\u001b[0m\n\u001b[0;32m     23\u001b[0m     \u001b[38;5;28mprint\u001b[39m(\u001b[38;5;124mf\u001b[39m\u001b[38;5;124m\"\u001b[39m\u001b[38;5;124mMessage collected: \u001b[39m\u001b[38;5;132;01m{\u001b[39;00mevent\u001b[38;5;241m.\u001b[39mmessage\u001b[38;5;241m.\u001b[39mmessage\u001b[38;5;132;01m}\u001b[39;00m\u001b[38;5;124m\"\u001b[39m)\n\u001b[0;32m     25\u001b[0m \u001b[38;5;66;03m# Start the client and run until manually stopped\u001b[39;00m\n\u001b[1;32m---> 26\u001b[0m \u001b[38;5;28;01mawait\u001b[39;00m client\u001b[38;5;241m.\u001b[39mrun_until_disconnected()\n",
      "File \u001b[1;32mc:\\Users\\Tesfaye\\AppData\\Local\\Programs\\Python\\Python312\\Lib\\site-packages\\telethon\\client\\updates.py:486\u001b[0m, in \u001b[0;36mUpdateMethods._keepalive_loop\u001b[1;34m(self)\u001b[0m\n\u001b[0;32m    484\u001b[0m \u001b[38;5;28;01mwhile\u001b[39;00m \u001b[38;5;28mself\u001b[39m\u001b[38;5;241m.\u001b[39mis_connected():\n\u001b[0;32m    485\u001b[0m     \u001b[38;5;28;01mtry\u001b[39;00m:\n\u001b[1;32m--> 486\u001b[0m         \u001b[38;5;28;01mawait\u001b[39;00m asyncio\u001b[38;5;241m.\u001b[39mwait_for(\n\u001b[0;32m    487\u001b[0m             \u001b[38;5;28mself\u001b[39m\u001b[38;5;241m.\u001b[39mdisconnected, timeout\u001b[38;5;241m=\u001b[39m\u001b[38;5;241m60\u001b[39m\n\u001b[0;32m    488\u001b[0m         )\n\u001b[0;32m    489\u001b[0m         \u001b[38;5;28;01mcontinue\u001b[39;00m  \u001b[38;5;66;03m# We actually just want to act upon timeout\u001b[39;00m\n\u001b[0;32m    490\u001b[0m     \u001b[38;5;28;01mexcept\u001b[39;00m asyncio\u001b[38;5;241m.\u001b[39mTimeoutError:\n",
      "File \u001b[1;32mc:\\Users\\Tesfaye\\AppData\\Local\\Programs\\Python\\Python312\\Lib\\asyncio\\tasks.py:520\u001b[0m, in \u001b[0;36mwait_for\u001b[1;34m(fut, timeout)\u001b[0m\n\u001b[0;32m    517\u001b[0m         \u001b[38;5;28;01mraise\u001b[39;00m \u001b[38;5;167;01mTimeoutError\u001b[39;00m \u001b[38;5;28;01mfrom\u001b[39;00m \u001b[38;5;21;01mexc\u001b[39;00m\n\u001b[0;32m    519\u001b[0m \u001b[38;5;28;01masync\u001b[39;00m \u001b[38;5;28;01mwith\u001b[39;00m timeouts\u001b[38;5;241m.\u001b[39mtimeout(timeout):\n\u001b[1;32m--> 520\u001b[0m     \u001b[38;5;28;01mreturn\u001b[39;00m \u001b[38;5;28;01mawait\u001b[39;00m fut\n",
      "\u001b[1;31mConnectionError\u001b[0m: Connection to Telegram failed 5 time(s)"
     ]
    }
   ],
   "source": [
    "\n",
    "# Create a DataFrame to store messages\n",
    "messages_list = []\n",
    "\n",
    "@client.on(events.NewMessage(chats='Fashiontera'))\n",
    "async def handler(event):\n",
    "    message_data = {\n",
    "        'date': event.message.date,\n",
    "        'text': event.message.message,\n",
    "        'media': None\n",
    "    }\n",
    "\n",
    "    # Check if the message has media (images/documents)\n",
    "    if event.message.media:\n",
    "        file_path = await event.message.download_media(file='documents/10thacademy/Kaim_week5/Ethiomart')  # Specify your desired directory\n",
    "        message_data['media'] = file_path\n",
    "\n",
    "    messages_list.append(message_data)\n",
    "\n",
    "    # Save to CSV\n",
    "    df_messages = pd.DataFrame(messages_list)\n",
    "    df_messages.to_csv('fashiontera_messages.csv', index=False)\n",
    "\n",
    "    print(f\"Message collected: {event.message.message}\")\n",
    "\n",
    "# Start the client and run until manually stopped\n",
    "await client.run_until_disconnected()"
   ]
  },
  {
   "cell_type": "markdown",
   "metadata": {},
   "source": [
    "###preprocess text data"
   ]
  },
  {
   "cell_type": "code",
   "execution_count": 9,
   "metadata": {},
   "outputs": [
    {
     "name": "stderr",
     "output_type": "stream",
     "text": [
      "[nltk_data] Downloading package punkt to\n",
      "[nltk_data]     C:\\Users\\Tesfaye\\AppData\\Roaming\\nltk_data...\n",
      "[nltk_data]   Unzipping tokenizers\\punkt.zip.\n",
      "[nltk_data] Downloading package stopwords to\n",
      "[nltk_data]     C:\\Users\\Tesfaye\\AppData\\Roaming\\nltk_data...\n",
      "[nltk_data]   Package stopwords is already up-to-date!\n"
     ]
    },
    {
     "data": {
      "text/plain": [
       "True"
      ]
     },
     "execution_count": 9,
     "metadata": {},
     "output_type": "execute_result"
    }
   ],
   "source": [
    "# Download necessary NLTK resources (if not already downloaded)\n",
    "nltk.download('punkt')\n",
    "nltk.download('stopwords')"
   ]
  },
  {
   "cell_type": "code",
   "execution_count": 10,
   "metadata": {},
   "outputs": [
    {
     "ename": "OSError",
     "evalue": "No such file or directory: 'C:\\\\Users\\\\Tesfaye\\\\AppData\\\\Roaming\\\\nltk_data\\\\corpora\\\\stopwords\\\\amharic'",
     "output_type": "error",
     "traceback": [
      "\u001b[1;31m---------------------------------------------------------------------------\u001b[0m",
      "\u001b[1;31mOSError\u001b[0m                                   Traceback (most recent call last)",
      "Cell \u001b[1;32mIn[10], line 2\u001b[0m\n\u001b[0;32m      1\u001b[0m \u001b[38;5;66;03m# Amharic stopwords\u001b[39;00m\n\u001b[1;32m----> 2\u001b[0m amharic_stopwords \u001b[38;5;241m=\u001b[39m \u001b[38;5;28mset\u001b[39m(\u001b[43mstopwords\u001b[49m\u001b[38;5;241;43m.\u001b[39;49m\u001b[43mwords\u001b[49m\u001b[43m(\u001b[49m\u001b[38;5;124;43m'\u001b[39;49m\u001b[38;5;124;43mamharic\u001b[39;49m\u001b[38;5;124;43m'\u001b[39;49m\u001b[43m)\u001b[49m)\n\u001b[0;32m      4\u001b[0m \u001b[38;5;28;01mdef\u001b[39;00m \u001b[38;5;21mpreprocess_text\u001b[39m(text):\n\u001b[0;32m      5\u001b[0m     \u001b[38;5;66;03m# Normalize text: Convert to lowercase\u001b[39;00m\n\u001b[0;32m      6\u001b[0m     text \u001b[38;5;241m=\u001b[39m text\u001b[38;5;241m.\u001b[39mlower()\n",
      "File \u001b[1;32mc:\\Users\\Tesfaye\\AppData\\Local\\Programs\\Python\\Python312\\Lib\\site-packages\\nltk\\corpus\\reader\\wordlist.py:21\u001b[0m, in \u001b[0;36mWordListCorpusReader.words\u001b[1;34m(self, fileids, ignore_lines_startswith)\u001b[0m\n\u001b[0;32m     18\u001b[0m \u001b[38;5;28;01mdef\u001b[39;00m \u001b[38;5;21mwords\u001b[39m(\u001b[38;5;28mself\u001b[39m, fileids\u001b[38;5;241m=\u001b[39m\u001b[38;5;28;01mNone\u001b[39;00m, ignore_lines_startswith\u001b[38;5;241m=\u001b[39m\u001b[38;5;124m\"\u001b[39m\u001b[38;5;130;01m\\n\u001b[39;00m\u001b[38;5;124m\"\u001b[39m):\n\u001b[0;32m     19\u001b[0m     \u001b[38;5;28;01mreturn\u001b[39;00m [\n\u001b[0;32m     20\u001b[0m         line\n\u001b[1;32m---> 21\u001b[0m         \u001b[38;5;28;01mfor\u001b[39;00m line \u001b[38;5;129;01min\u001b[39;00m line_tokenize(\u001b[38;5;28;43mself\u001b[39;49m\u001b[38;5;241;43m.\u001b[39;49m\u001b[43mraw\u001b[49m\u001b[43m(\u001b[49m\u001b[43mfileids\u001b[49m\u001b[43m)\u001b[49m)\n\u001b[0;32m     22\u001b[0m         \u001b[38;5;28;01mif\u001b[39;00m \u001b[38;5;129;01mnot\u001b[39;00m line\u001b[38;5;241m.\u001b[39mstartswith(ignore_lines_startswith)\n\u001b[0;32m     23\u001b[0m     ]\n",
      "File \u001b[1;32mc:\\Users\\Tesfaye\\AppData\\Local\\Programs\\Python\\Python312\\Lib\\site-packages\\nltk\\corpus\\reader\\api.py:218\u001b[0m, in \u001b[0;36mCorpusReader.raw\u001b[1;34m(self, fileids)\u001b[0m\n\u001b[0;32m    216\u001b[0m contents \u001b[38;5;241m=\u001b[39m []\n\u001b[0;32m    217\u001b[0m \u001b[38;5;28;01mfor\u001b[39;00m f \u001b[38;5;129;01min\u001b[39;00m fileids:\n\u001b[1;32m--> 218\u001b[0m     \u001b[38;5;28;01mwith\u001b[39;00m \u001b[38;5;28;43mself\u001b[39;49m\u001b[38;5;241;43m.\u001b[39;49m\u001b[43mopen\u001b[49m\u001b[43m(\u001b[49m\u001b[43mf\u001b[49m\u001b[43m)\u001b[49m \u001b[38;5;28;01mas\u001b[39;00m fp:\n\u001b[0;32m    219\u001b[0m         contents\u001b[38;5;241m.\u001b[39mappend(fp\u001b[38;5;241m.\u001b[39mread())\n\u001b[0;32m    220\u001b[0m \u001b[38;5;28;01mreturn\u001b[39;00m concat(contents)\n",
      "File \u001b[1;32mc:\\Users\\Tesfaye\\AppData\\Local\\Programs\\Python\\Python312\\Lib\\site-packages\\nltk\\corpus\\reader\\api.py:231\u001b[0m, in \u001b[0;36mCorpusReader.open\u001b[1;34m(self, file)\u001b[0m\n\u001b[0;32m    223\u001b[0m \u001b[38;5;250m\u001b[39m\u001b[38;5;124;03m\"\"\"\u001b[39;00m\n\u001b[0;32m    224\u001b[0m \u001b[38;5;124;03mReturn an open stream that can be used to read the given file.\u001b[39;00m\n\u001b[0;32m    225\u001b[0m \u001b[38;5;124;03mIf the file's encoding is not None, then the stream will\u001b[39;00m\n\u001b[1;32m   (...)\u001b[0m\n\u001b[0;32m    228\u001b[0m \u001b[38;5;124;03m:param file: The file identifier of the file to read.\u001b[39;00m\n\u001b[0;32m    229\u001b[0m \u001b[38;5;124;03m\"\"\"\u001b[39;00m\n\u001b[0;32m    230\u001b[0m encoding \u001b[38;5;241m=\u001b[39m \u001b[38;5;28mself\u001b[39m\u001b[38;5;241m.\u001b[39mencoding(file)\n\u001b[1;32m--> 231\u001b[0m stream \u001b[38;5;241m=\u001b[39m \u001b[38;5;28;43mself\u001b[39;49m\u001b[38;5;241;43m.\u001b[39;49m\u001b[43m_root\u001b[49m\u001b[38;5;241;43m.\u001b[39;49m\u001b[43mjoin\u001b[49m\u001b[43m(\u001b[49m\u001b[43mfile\u001b[49m\u001b[43m)\u001b[49m\u001b[38;5;241m.\u001b[39mopen(encoding)\n\u001b[0;32m    232\u001b[0m \u001b[38;5;28;01mreturn\u001b[39;00m stream\n",
      "File \u001b[1;32mc:\\Users\\Tesfaye\\AppData\\Local\\Programs\\Python\\Python312\\Lib\\site-packages\\nltk\\data.py:333\u001b[0m, in \u001b[0;36mFileSystemPathPointer.join\u001b[1;34m(self, fileid)\u001b[0m\n\u001b[0;32m    331\u001b[0m \u001b[38;5;28;01mdef\u001b[39;00m \u001b[38;5;21mjoin\u001b[39m(\u001b[38;5;28mself\u001b[39m, fileid):\n\u001b[0;32m    332\u001b[0m     _path \u001b[38;5;241m=\u001b[39m os\u001b[38;5;241m.\u001b[39mpath\u001b[38;5;241m.\u001b[39mjoin(\u001b[38;5;28mself\u001b[39m\u001b[38;5;241m.\u001b[39m_path, fileid)\n\u001b[1;32m--> 333\u001b[0m     \u001b[38;5;28;01mreturn\u001b[39;00m \u001b[43mFileSystemPathPointer\u001b[49m\u001b[43m(\u001b[49m\u001b[43m_path\u001b[49m\u001b[43m)\u001b[49m\n",
      "File \u001b[1;32mc:\\Users\\Tesfaye\\AppData\\Local\\Programs\\Python\\Python312\\Lib\\site-packages\\nltk\\data.py:311\u001b[0m, in \u001b[0;36mFileSystemPathPointer.__init__\u001b[1;34m(self, _path)\u001b[0m\n\u001b[0;32m    309\u001b[0m _path \u001b[38;5;241m=\u001b[39m os\u001b[38;5;241m.\u001b[39mpath\u001b[38;5;241m.\u001b[39mabspath(_path)\n\u001b[0;32m    310\u001b[0m \u001b[38;5;28;01mif\u001b[39;00m \u001b[38;5;129;01mnot\u001b[39;00m os\u001b[38;5;241m.\u001b[39mpath\u001b[38;5;241m.\u001b[39mexists(_path):\n\u001b[1;32m--> 311\u001b[0m     \u001b[38;5;28;01mraise\u001b[39;00m \u001b[38;5;167;01mOSError\u001b[39;00m(\u001b[38;5;124m\"\u001b[39m\u001b[38;5;124mNo such file or directory: \u001b[39m\u001b[38;5;132;01m%r\u001b[39;00m\u001b[38;5;124m\"\u001b[39m \u001b[38;5;241m%\u001b[39m _path)\n\u001b[0;32m    312\u001b[0m \u001b[38;5;28mself\u001b[39m\u001b[38;5;241m.\u001b[39m_path \u001b[38;5;241m=\u001b[39m _path\n",
      "\u001b[1;31mOSError\u001b[0m: No such file or directory: 'C:\\\\Users\\\\Tesfaye\\\\AppData\\\\Roaming\\\\nltk_data\\\\corpora\\\\stopwords\\\\amharic'"
     ]
    }
   ],
   "source": [
    "# Amharic stopwords\n",
    "amharic_stopwords = set(stopwords.words('amharic'))\n",
    "\n",
    "def preprocess_text(text):\n",
    "    # Normalize text: Convert to lowercase\n",
    "    text = text.lower()\n",
    "    \n",
    "    # Remove punctuation and special characters\n",
    "    text = re.sub(r'[^\\w\\s]', '', text)\n",
    "    \n",
    "    # Tokenize the text\n",
    "    tokens = word_tokenize(text)\n",
    "    \n",
    "    # Remove stopwords\n",
    "    tokens = [token for token in tokens if token not in amharic_stopwords]\n",
    "    \n",
    "    return tokens"
   ]
  },
  {
   "cell_type": "code",
   "execution_count": null,
   "metadata": {},
   "outputs": [],
   "source": [
    "# Assuming df_messages is your DataFrame containing the text data\n",
    "df_messages['processed_text'] = df_messages['text'].apply(preprocess_text)\n",
    "\n",
    "# Display the processed text\n",
    "df_messages[['text', 'processed_text']].head()"
   ]
  },
  {
   "cell_type": "code",
   "execution_count": null,
   "metadata": {},
   "outputs": [],
   "source": [
    "def normalize_amharic(text):\n",
    "    # Replace common variations or errors (example)\n",
    "    text = re.sub(r'ምስረዋ', 'ምስረዋ', text)  # Example of normalization\n",
    "    return text\n",
    "\n",
    "# Normalize text before tokenization\n",
    "df_messages['text'] = df_messages['text'].apply(normalize_amharic)\n",
    "df_messages['processed_text'] = df_messages['text'].apply(preprocess_text)"
   ]
  },
  {
   "cell_type": "markdown",
   "metadata": {},
   "source": [
    "###clean and structure"
   ]
  },
  {
   "cell_type": "code",
   "execution_count": null,
   "metadata": {},
   "outputs": [],
   "source": [
    "# Load your messages CSV file\n",
    "df_messages = pd.read_csv('fashiontera_messages.csv')\n",
    "\n",
    "# Display the first few rows\n",
    "df_messages.head()"
   ]
  },
  {
   "cell_type": "code",
   "execution_count": null,
   "metadata": {},
   "outputs": [],
   "source": [
    "def clean_and_structure_data(df):\n",
    "    structured_data = []\n",
    "\n",
    "    for index, row in df.iterrows():\n",
    "        # Extract Metadata\n",
    "        metadata = {\n",
    "            'sender': row['sender_id'],          # Adjust based on your DataFrame structure\n",
    "            'timestamp': row['date'],             # Assuming 'date' column exists\n",
    "            'message_id': row['id']               # Assuming 'id' column exists\n",
    "        }\n",
    "\n",
    "        # Extract Message Content\n",
    "        message_content = {\n",
    "            'text': row['text'],\n",
    "            'media': row['media'] if 'media' in row else None  # Handle media if present\n",
    "        }\n",
    "\n",
    "        structured_data.append({\n",
    "            'metadata': metadata,\n",
    "            'content': message_content\n",
    "        })\n",
    "\n",
    "    return pd.DataFrame(structured_data)\n",
    "\n",
    "# Clean and structure the data\n",
    "df_structured = clean_and_structure_data(df_messages)\n",
    "\n",
    "# Display the structured data\n",
    "df_structured.head()"
   ]
  },
  {
   "cell_type": "markdown",
   "metadata": {},
   "source": [
    "###store structured data"
   ]
  },
  {
   "cell_type": "code",
   "execution_count": null,
   "metadata": {},
   "outputs": [],
   "source": [
    "df_structured.to_csv('structured_fashiontera_messages.csv', index=False)"
   ]
  }
 ],
 "metadata": {
  "kernelspec": {
   "display_name": "Python 3",
   "language": "python",
   "name": "python3"
  },
  "language_info": {
   "codemirror_mode": {
    "name": "ipython",
    "version": 3
   },
   "file_extension": ".py",
   "mimetype": "text/x-python",
   "name": "python",
   "nbconvert_exporter": "python",
   "pygments_lexer": "ipython3",
   "version": "3.12.5"
  }
 },
 "nbformat": 4,
 "nbformat_minor": 2
}
