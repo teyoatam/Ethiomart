{
 "cells": [
  {
   "cell_type": "code",
   "execution_count": 1,
   "metadata": {},
   "outputs": [],
   "source": [
    "import numpy as np\n",
    "import cv2\n",
    "import os"
   ]
  },
  {
   "cell_type": "code",
   "execution_count": null,
   "metadata": {},
   "outputs": [],
   "source": [
    "IMG_DIR = 'telegram_images1'\n",
    "FIXED_SIZE = (100, 100)  # Define a fixed size for all images\n",
    "\n",
    "# Initialize a list to collect image arrays\n",
    "all_images = []\n",
    "\n",
    "for img in os.listdir(IMG_DIR):\n",
    "    img_path = os.path.join(IMG_DIR, img)\n",
    "    img_array = cv2.imread(img_path, cv2.IMREAD_GRAYSCALE)\n",
    "    \n",
    "    if img_array is None:\n",
    "        print(f\"Warning: Unable to read image {img_path}. Skipping.\")\n",
    "        continue\n",
    "\n",
    "    # Resize the image to the fixed size\n",
    "    img_array = cv2.resize(img_array, FIXED_SIZE)\n",
    "\n",
    "    img_array = img_array.flatten()\n",
    "    img_array = img_array.reshape(1, -1)\n",
    "    print(img_array)\n",
    "\n",
    "    all_images.append(img_array)\n",
    "\n",
    "# Concatenate all image arrays vertically\n",
    "if all_images:\n",
    "    all_images = np.vstack(all_images)\n",
    "    with open('imageoflobeli.csv', 'wb') as f:\n",
    "        np.savetxt(f, all_images, delimiter=',')\n",
    "else:\n",
    "    print(\"No valid images found to write to CSV.\")"
   ]
  }
 ],
 "metadata": {
  "kernelspec": {
   "display_name": "Python 3",
   "language": "python",
   "name": "python3"
  },
  "language_info": {
   "codemirror_mode": {
    "name": "ipython",
    "version": 3
   },
   "file_extension": ".py",
   "mimetype": "text/x-python",
   "name": "python",
   "nbconvert_exporter": "python",
   "pygments_lexer": "ipython3",
   "version": "3.12.5"
  }
 },
 "nbformat": 4,
 "nbformat_minor": 2
}
